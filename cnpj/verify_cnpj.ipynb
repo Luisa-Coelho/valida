{
 "cells": [
  {
   "cell_type": "code",
   "execution_count": 23,
   "id": "e684fbd9",
   "metadata": {},
   "outputs": [
    {
     "name": "stdout",
     "output_type": "stream",
     "text": [
      "insira seu cnpj92794678000101\n",
      "[45, 8, 21, 18, 36, 48, 49, 48, 0, 0, 0, 2]\n",
      "1\n"
     ]
    }
   ],
   "source": [
    "#http://macoratti.net/alg_cnpj.htm\n",
    "i = 0\n",
    "elem = 0\n",
    "check = []\n",
    "multipliers = [5, 4, 3, 2, 9, 8, 7, 6, 5, 4, 3, 2]\n",
    "\n",
    "\n",
    "cnpj = list(input('insira seu cnpj'))\n",
    "cnpj_real = []\n",
    "for sublist in cnpj:\n",
    "    for item in sublist:\n",
    "        cnpj_real.append(item)\n",
    "cnpj_verify = cnpj_real      \n",
    "digit = 0\n",
    "                 \n",
    "try:\n",
    "    if len(cnpj_verify)<14:\n",
    "        print('insira 14 digitos')\n",
    "            \n",
    "    else:\n",
    "        while elem < 12:\n",
    "            if elem == 0:\n",
    "                check.append(int(cnpj_verify[elem]) * multipliers[i])\n",
    "                elem+=1\n",
    "            else:\n",
    "                i+=1\n",
    "                new = int(cnpj_verify[elem]) * multipliers[i]\n",
    "                check.append(new)\n",
    "                digit = new + digit                \n",
    "                elem+=1\n",
    "                \n",
    "except:\n",
    "    raise AttributeError\n",
    "\n",
    "first = 0\n",
    "second = 0\n",
    "result = int(digit%11)\n",
    "\n",
    "if result < 2:\n",
    "    first = 0\n",
    "else:\n",
    "    first = 11 - result\n",
    "\n",
    "print(check)\n",
    "print(first)\n"
   ]
  },
  {
   "cell_type": "code",
   "execution_count": 22,
   "id": "33c21b41",
   "metadata": {},
   "outputs": [
    {
     "ename": "AttributeError",
     "evalue": "",
     "output_type": "error",
     "traceback": [
      "\u001b[1;31m---------------------------------------------------------------------------\u001b[0m",
      "\u001b[1;31mIndexError\u001b[0m                                Traceback (most recent call last)",
      "\u001b[1;32m<ipython-input-22-c2b094aaa8a0>\u001b[0m in \u001b[0;36m<module>\u001b[1;34m\u001b[0m\n\u001b[0;32m     30\u001b[0m             \u001b[0mi\u001b[0m\u001b[1;33m+=\u001b[0m\u001b[1;36m1\u001b[0m\u001b[1;33m\u001b[0m\u001b[1;33m\u001b[0m\u001b[0m\n\u001b[1;32m---> 31\u001b[1;33m             \u001b[0mcheck\u001b[0m\u001b[1;33m.\u001b[0m\u001b[0mappend\u001b[0m\u001b[1;33m(\u001b[0m\u001b[0mint\u001b[0m\u001b[1;33m(\u001b[0m\u001b[0mcnpjs\u001b[0m\u001b[1;33m[\u001b[0m\u001b[0melem\u001b[0m\u001b[1;33m]\u001b[0m\u001b[1;33m)\u001b[0m \u001b[1;33m*\u001b[0m \u001b[0mmultipliers\u001b[0m\u001b[1;33m[\u001b[0m\u001b[0mi\u001b[0m\u001b[1;33m]\u001b[0m\u001b[1;33m)\u001b[0m\u001b[1;33m\u001b[0m\u001b[1;33m\u001b[0m\u001b[0m\n\u001b[0m\u001b[0;32m     32\u001b[0m             \u001b[0melem\u001b[0m\u001b[1;33m+=\u001b[0m\u001b[1;36m1\u001b[0m\u001b[1;33m\u001b[0m\u001b[1;33m\u001b[0m\u001b[0m\n",
      "\u001b[1;31mIndexError\u001b[0m: list index out of range",
      "\nDuring handling of the above exception, another exception occurred:\n",
      "\u001b[1;31mAttributeError\u001b[0m                            Traceback (most recent call last)",
      "\u001b[1;32m<ipython-input-22-c2b094aaa8a0>\u001b[0m in \u001b[0;36m<module>\u001b[1;34m\u001b[0m\n\u001b[0;32m     32\u001b[0m             \u001b[0melem\u001b[0m\u001b[1;33m+=\u001b[0m\u001b[1;36m1\u001b[0m\u001b[1;33m\u001b[0m\u001b[1;33m\u001b[0m\u001b[0m\n\u001b[0;32m     33\u001b[0m \u001b[1;32mexcept\u001b[0m\u001b[1;33m:\u001b[0m\u001b[1;33m\u001b[0m\u001b[1;33m\u001b[0m\u001b[0m\n\u001b[1;32m---> 34\u001b[1;33m     \u001b[1;32mraise\u001b[0m \u001b[0mAttributeError\u001b[0m\u001b[1;33m\u001b[0m\u001b[1;33m\u001b[0m\u001b[0m\n\u001b[0m\u001b[0;32m     35\u001b[0m \u001b[1;33m\u001b[0m\u001b[0m\n\u001b[0;32m     36\u001b[0m \u001b[1;33m\u001b[0m\u001b[0m\n",
      "\u001b[1;31mAttributeError\u001b[0m: "
     ]
    }
   ],
   "source": [
    "import re\n",
    "\n",
    "with open(\"cnpj_coleta.txt\",'r',encoding=\"utf8\") as text:\n",
    "    text = text.readlines()\n",
    "    \n",
    "cnpjs  = []\n",
    "for line in text:\n",
    "    line = line.strip()\n",
    "    line = line.lower()\n",
    "    words = line.split(\" \")\n",
    "    for cnpj in words:\n",
    "        y = re.findall('[0-9]{14}',cnpj)\n",
    "        cnpjs = cnpjs + y\n",
    "        \n",
    "            \n",
    "        \n",
    "check = []\n",
    "multipliers = [9, 8, 7, 6, 5, 4, 3, 2, 9, 8, 7, 6, 5]\n",
    "\n",
    "elem = 0\n",
    "i = 0\n",
    "try:                                       \n",
    "    #if len(cnpj_verify)<14:\n",
    "        #print('insira 14 digitos')\n",
    "    while elem < 12:\n",
    "        if elem == 0:\n",
    "            check.append(int(cnpjs[elem]) * multipliers[i])\n",
    "            elem+=1\n",
    "        else:\n",
    "            i+=1\n",
    "            check.append(int(cnpjs[elem]) * multipliers[i])\n",
    "            elem+=1\n",
    "except:\n",
    "    raise AttributeError\n",
    "\n",
    "\n",
    "print(check)"
   ]
  },
  {
   "cell_type": "code",
   "execution_count": 60,
   "id": "b808fdd6",
   "metadata": {},
   "outputs": [
    {
     "name": "stdout",
     "output_type": "stream",
     "text": [
      "['8', '8', '1', '5', '0', '1', '5', '5', '0', '0', '0', '1', '5', '5', '9', '2', '7', '9', '4', '6', '7', '8', '0', '0', '0', '1', '0', '1']\n"
     ]
    }
   ],
   "source": [
    "import re\n",
    "\n",
    "with open(\"cnpj_coleta.txt\",'r',encoding=\"utf8\") as text:\n",
    "    text = text.readlines()\n",
    "    \n",
    "cnpjs  = []\n",
    "for line in text:\n",
    "    line = line.strip()\n",
    "    line = line.lower()\n",
    "    words = line.split(\" \")\n",
    "    for cnpj in words:\n",
    "        y = re.findall('[0-9]{14}',cnpj)\n",
    "        cnpjs = cnpjs + y\n",
    "        \n",
    "result = []\n",
    "for sublist in cnpjs:\n",
    "    for item in sublist:\n",
    "        result.append(item)\n",
    "\n",
    "print(result)\n",
    "\n",
    "   \n"
   ]
  },
  {
   "cell_type": "code",
   "execution_count": null,
   "id": "ad15afb1",
   "metadata": {},
   "outputs": [],
   "source": []
  }
 ],
 "metadata": {
  "kernelspec": {
   "display_name": "Python 3",
   "language": "python",
   "name": "python3"
  },
  "language_info": {
   "codemirror_mode": {
    "name": "ipython",
    "version": 3
   },
   "file_extension": ".py",
   "mimetype": "text/x-python",
   "name": "python",
   "nbconvert_exporter": "python",
   "pygments_lexer": "ipython3",
   "version": "3.8.8"
  }
 },
 "nbformat": 4,
 "nbformat_minor": 5
}
